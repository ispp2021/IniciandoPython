{
 "cells": [
  {
   "cell_type": "markdown",
   "metadata": {},
   "source": [
    "<h1>LECTURAS PYTHON</h1>"
   ]
  },
  {
   "cell_type": "markdown",
   "metadata": {},
   "source": [
    "<h2>INTRODUCCION</h2>"
   ]
  },
  {
   "cell_type": "markdown",
   "metadata": {},
   "source": [
    "Python es moderno, robusto, un lenguaje de programacion de alto nivel. Es muy facil aprenderlo, incluso si tu estas iniciando a aprender programacion."
   ]
  },
  {
   "cell_type": "markdown",
   "metadata": {},
   "source": [
    "<h2>INSTALACION</h2>"
   ]
  },
  {
   "cell_type": "markdown",
   "metadata": {},
   "source": [
    "Mac OS X and Linux tienen pre instalado python. Los usuarios de Windows pueden descargar python desde https://www.python.org/downloads/ .\n",
    "\n",
    "Para instalar IPython (Entorno interactivo de python, tiene una interfaz mejorada comparada con el interprete estandar de Python) escriba el comando,\n",
    "\n",
    "    $ pip install ipython[all]\n",
    "    \n",
    "Esto instalara todo lo necesario, dependencias para notebooks, consola qt, test y otros mas."
   ]
  },
  {
   "cell_type": "markdown",
   "metadata": {},
   "source": [
    "<h2>INSTALACION DE VERSIONES NO OFICIALES</h2>"
   ]
  },
  {
   "cell_type": "markdown",
   "metadata": {},
   "source": [
    "No es recomendable, ya que la instalacion de librerias puede dificultarse. Anaconda y Canopy vienen empaquetadas con todas las librerias necesarias y tambien IPython."
   ]
  },
  {
   "cell_type": "markdown",
   "metadata": {},
   "source": [
    "<h3>ANACONDA</h3>"
   ]
  },
  {
   "cell_type": "markdown",
   "metadata": {},
   "source": [
    "Descargue Anaconda desde https://www.continuum.io/downloads\n",
    "\n",
    "Anaconda es completamente libre e incluye mas de 300 paquetes de Python. asi mismo tiene disonible las opciones de Python 2.7 y 3.4."
   ]
  },
  {
   "cell_type": "markdown",
   "metadata": {},
   "source": [
    "<h3>CANOPY</h3>"
   ]
  },
  {
   "cell_type": "markdown",
   "metadata": {},
   "source": [
    "Descargue Canopy desde https://store.enthought.com/downloads/#default\n",
    "\n",
    "Canopy tiene una version premium que ofrece mas de 300 paquetes Python. pero la version gratuita trabaja bien. Canopy actualmente soporta solo la version 2.7 de Pyton pero pero viene con su propio editor de texto y su entorno IPython."
   ]
  },
  {
   "cell_type": "markdown",
   "metadata": {},
   "source": [
    "<h3>LANZAR IPYTHON NOTEBOOK</h3>"
   ]
  },
  {
   "cell_type": "markdown",
   "metadata": {},
   "source": [
    "Desde la linea de comandos escriba\n",
    "    ipython notebook\n",
    "\n",
    "En Canopy y Anaconda, abra los respectivos terminales y ejecute el comando."
   ]
  },
  {
   "cell_type": "markdown",
   "metadata": {},
   "source": [
    "<h2>LICENCIA</h2>"
   ]
  },
  {
   "cell_type": "markdown",
   "metadata": {},
   "source": [
    "Este trabajo esta enmarcado bajo la licencia Creative Commons Attribution 3.0 Unported License. Para revisar una copia de esta licencia, visite http://creativecommons.org/licenses/by/3.0/"
   ]
  },
  {
   "cell_type": "markdown",
   "metadata": {},
   "source": [
    "Esta es una version traducida y personalizada de la version original del repositorio https://github.com/rajathkumarmp"
   ]
  }
 ],
 "metadata": {
  "kernelspec": {
   "display_name": "Python 3 (ipykernel)",
   "language": "python",
   "name": "python3"
  },
  "language_info": {
   "codemirror_mode": {
    "name": "ipython",
    "version": 3
   },
   "file_extension": ".py",
   "mimetype": "text/x-python",
   "name": "python",
   "nbconvert_exporter": "python",
   "pygments_lexer": "ipython3",
   "version": "3.11.5"
  }
 },
 "nbformat": 4,
 "nbformat_minor": 1
}
