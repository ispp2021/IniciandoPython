{
 "cells": [
  {
   "cell_type": "markdown",
   "metadata": {},
   "source": [
    "<h1>FUNCIONES</h1>"
   ]
  },
  {
   "cell_type": "markdown",
   "metadata": {},
   "source": [
    "Muchas veces un algoritmo se tienen que repetir varias veces, y sería muy tedioso escribir el código una y otra vez así mismo el tiempo de ejecución y el consumo de memoria sería ineficiente, para salvar este obstáculo existen las funciones."
   ]
  },
  {
   "cell_type": "markdown",
   "metadata": {},
   "source": [
    "Esta es la sintaxis básica de una función."
   ]
  },
  {
   "cell_type": "markdown",
   "metadata": {},
   "source": [
    "def funcname(arg1, arg2,... argN):\n",
    "    \n",
    "    ''' Texto de documentacion'''\n",
    "\n",
    "    statements\n",
    "\n",
    "\n",
    "    return <valor>"
   ]
  },
  {
   "cell_type": "markdown",
   "metadata": {},
   "source": [
    "funcname es el nombre de la función, el cual acepta varios argumentos (arg1, arg2, ... argN), la función se documenta en el texto de la documentacion, después de ejecutar la función este retorna un valor 'return'."
   ]
  },
  {
   "cell_type": "code",
   "execution_count": 1,
   "metadata": {},
   "outputs": [
    {
     "name": "stdout",
     "output_type": "stream",
     "text": [
      "Hey Pedro!\n",
      "Pedro, como haz estado?\n"
     ]
    }
   ],
   "source": [
    "print (\"Hey Pedro!\")\n",
    "print (\"Pedro, como haz estado?\")"
   ]
  },
  {
   "cell_type": "markdown",
   "metadata": {},
   "source": [
    "En vez de escribir las sentencias mostradas arriba en cada línea, este puede ser reemplazado definiendo una función para que haga este trabajo en una sola línea.\n",
    "\n",
    "\n",
    "definimos nuestra primera funcion firstfunc()."
   ]
  },
  {
   "cell_type": "code",
   "execution_count": 2,
   "metadata": {},
   "outputs": [],
   "source": [
    "def firstfunc(): #se define la funcion\n",
    "    print (\"Hey Pedro!\")\n",
    "    print (\"Pedro, como haz estado?\")  "
   ]
  },
  {
   "cell_type": "code",
   "execution_count": 3,
   "metadata": {},
   "outputs": [
    {
     "name": "stdout",
     "output_type": "stream",
     "text": [
      "Hey Pedro!\n",
      "Pedro, como haz estado?\n"
     ]
    }
   ],
   "source": [
    "firstfunc() #llamamos al a funcion que hemos definido"
   ]
  },
  {
   "cell_type": "markdown",
   "metadata": {},
   "source": [
    "**firstfunc()** envia un mensaje a Pedro. podemos hacer que nuestra funcion **firstfunc()** acepte argumentos que se almacenaran el nombre en una variable y luego lo imprimira. lo haremos como sigue."
   ]
  },
  {
   "cell_type": "code",
   "execution_count": 4,
   "metadata": {},
   "outputs": [],
   "source": [
    "def firstfunc(usuario): #se define la funcion que acepta un argumento\n",
    "    print (\"Hey\", usuario + '!')\n",
    "    print (usuario + ',' ,\"como estas?\")"
   ]
  },
  {
   "cell_type": "code",
   "execution_count": 6,
   "metadata": {},
   "outputs": [
    {
     "name": "stdout",
     "output_type": "stream",
     "text": [
      "Por favor Ingrese su nombre : Juan\n"
     ]
    }
   ],
   "source": [
    "name1 = input('Por favor Ingrese su nombre : ') #solicitamos que ingrese nombre"
   ]
  },
  {
   "cell_type": "markdown",
   "metadata": {},
   "source": [
    "El nombre Juan se almacenará en la variable llamada name1. Y nosotros podemos pasar esta variable a nuestra función.**firstfunc()** para que se envie el mensaje"
   ]
  },
  {
   "cell_type": "code",
   "execution_count": 7,
   "metadata": {},
   "outputs": [
    {
     "name": "stdout",
     "output_type": "stream",
     "text": [
      "Hey Juan!\n",
      "Juan, como estas?\n"
     ]
    }
   ],
   "source": [
    "firstfunc(name1)"
   ]
  },
  {
   "cell_type": "markdown",
   "metadata": {},
   "source": [
    "Vamos a simplificar esto definiendo otra función **secondfunc()** que acepte el nombre lo almacene en una variable y luego llame a la primera función dentro de la función misma."
   ]
  },
  {
   "cell_type": "code",
   "execution_count": 8,
   "metadata": {},
   "outputs": [],
   "source": [
    "def firstfunc(usuario):\n",
    "    print (\"Hey\", usuario + '!')\n",
    "    print (usuario + ',' ,\"como estas?\")\n",
    "def secondfunc():\n",
    "    nombr = input(\"Por favor Ingrese su nombre : \")\n",
    "    firstfunc(nombr)"
   ]
  },
  {
   "cell_type": "code",
   "execution_count": 9,
   "metadata": {},
   "outputs": [
    {
     "name": "stdout",
     "output_type": "stream",
     "text": [
      "Por favor Ingrese su nombre : Juan\n",
      "Hey Juan!\n",
      "Juan, como estas?\n"
     ]
    }
   ],
   "source": [
    "secondfunc()"
   ]
  },
  {
   "cell_type": "markdown",
   "metadata": {},
   "source": [
    "<h2>Sentencia return</h2>"
   ]
  },
  {
   "cell_type": "markdown",
   "metadata": {},
   "source": [
    "Cuando una función finaliza devuelve un valor y este valor tiene que ser almacenado una variable o necesita ser enviado de vuelta para operaciones posteriores en el algoritmo principal, para devolver este valor se utiliza la sentencia **return**\n"
   ]
  },
  {
   "cell_type": "code",
   "execution_count": 10,
   "metadata": {},
   "outputs": [],
   "source": [
    "def producto(x,y): #se define la funcion producto con dos argumentos de entrada\n",
    "    z = x*y\n",
    "    return z #se retorna el resultado"
   ]
  },
  {
   "cell_type": "markdown",
   "metadata": {},
   "source": [
    "El código define la función **producto()** que acepta dos argumentos y retorna una variable z que contiene el resultado que es el producto de esos dos argumentos."
   ]
  },
  {
   "cell_type": "code",
   "execution_count": 11,
   "metadata": {},
   "outputs": [
    {
     "name": "stdout",
     "output_type": "stream",
     "text": [
      "21\n"
     ]
    }
   ],
   "source": [
    "c = producto(7,3)\n",
    "print (c)"
   ]
  },
  {
   "cell_type": "markdown",
   "metadata": {},
   "source": [
    "El valor retornado de z se almacena en la variable c del algoritmo principal."
   ]
  },
  {
   "cell_type": "markdown",
   "metadata": {},
   "source": [
    "En vez de declarar otra variable, la operación matematica puede escribirse después del return"
   ]
  },
  {
   "cell_type": "code",
   "execution_count": 12,
   "metadata": {},
   "outputs": [],
   "source": [
    "def producto(x,y):\n",
    "    '''Esta funcion multiplica los argumentos de entrada retornando el resultado'''\n",
    "    return x*y"
   ]
  },
  {
   "cell_type": "code",
   "execution_count": 13,
   "metadata": {},
   "outputs": [
    {
     "name": "stdout",
     "output_type": "stream",
     "text": [
      "21\n"
     ]
    }
   ],
   "source": [
    "c = producto(3,7)\n",
    "print (c)"
   ]
  },
  {
   "cell_type": "markdown",
   "metadata": {},
   "source": [
    "Una vez que la función **producto()** ha sido definida, nosotros podemos documentar, este texto se muestra cuando la función es llamado como argumento de la función **help()**.\n"
   ]
  },
  {
   "cell_type": "code",
   "execution_count": 14,
   "metadata": {},
   "outputs": [
    {
     "name": "stdout",
     "output_type": "stream",
     "text": [
      "Help on function producto in module __main__:\n",
      "\n",
      "producto(x, y)\n",
      "    Esta funcion multiplica los argumentos de entrada retornando el resultado\n",
      "\n"
     ]
    }
   ],
   "source": [
    "help(producto)"
   ]
  },
  {
   "cell_type": "markdown",
   "metadata": {},
   "source": [
    "Se pueden retornar múltiples variables pero siempre se debe considerar el orden."
   ]
  },
  {
   "cell_type": "code",
   "execution_count": 15,
   "metadata": {},
   "outputs": [],
   "source": [
    "eglist = [10,50,30,12,6,8,100] #se define una lista"
   ]
  },
  {
   "cell_type": "code",
   "execution_count": 16,
   "metadata": {},
   "outputs": [],
   "source": [
    "def egfunc(eglist): #se define una funcion con multiples datos de retorno\n",
    "    highest = max(eglist)\n",
    "    lowest = min(eglist)\n",
    "    first = eglist[0]\n",
    "    last = eglist[-1]\n",
    "    return highest,lowest,first,last"
   ]
  },
  {
   "cell_type": "markdown",
   "metadata": {},
   "source": [
    "Si la función es llamada sin ninguna variable a asignarse, el resultado retornado será una tupla. Pero si la variable son mencionadas el resultado será asignado a la variable en el orden particular que es declarado en la sentencia **return**"
   ]
  },
  {
   "cell_type": "code",
   "execution_count": 17,
   "metadata": {},
   "outputs": [
    {
     "data": {
      "text/plain": [
       "(100, 6, 10, 100)"
      ]
     },
     "execution_count": 17,
     "metadata": {},
     "output_type": "execute_result"
    }
   ],
   "source": [
    "egfunc(eglist)"
   ]
  },
  {
   "cell_type": "code",
   "execution_count": 18,
   "metadata": {},
   "outputs": [
    {
     "name": "stdout",
     "output_type": "stream",
     "text": [
      " max = 100 \n",
      " min = 6 \n",
      " primero = 10 \n",
      " ultimo = 100\n"
     ]
    }
   ],
   "source": [
    "a,b,c,d = egfunc(eglist)\n",
    "print (' max =',a,'\\n min =',b,'\\n primero =',c,'\\n ultimo =',d)"
   ]
  },
  {
   "cell_type": "markdown",
   "metadata": {},
   "source": [
    "<h2>Argumentos Implicitos</h2>"
   ]
  },
  {
   "cell_type": "markdown",
   "metadata": {},
   "source": [
    "Cuando un argumento de una función es común en la mayoría de casos se define como implícito."
   ]
  },
  {
   "cell_type": "code",
   "execution_count": 19,
   "metadata": {},
   "outputs": [],
   "source": [
    "def implicitadd(x,y=3):\n",
    "    return x+y"
   ]
  },
  {
   "cell_type": "markdown",
   "metadata": {},
   "source": [
    "La función **implicitadd( )** acepta dos argumentos pero la mayoría de veces el primer argumento necesita ser sumado por tres, por lo cual el segundo argumento es asignado a tres, por lo cual se dice que el segundo argumento es implícito, cuando no se define el segundo argumento este se considera por default como 3."
   ]
  },
  {
   "cell_type": "code",
   "execution_count": 20,
   "metadata": {},
   "outputs": [
    {
     "data": {
      "text/plain": [
       "7"
      ]
     },
     "execution_count": 20,
     "metadata": {},
     "output_type": "execute_result"
    }
   ],
   "source": [
    "implicitadd(4)"
   ]
  },
  {
   "cell_type": "markdown",
   "metadata": {},
   "source": [
    "Pero si el segundo argumento se especifica este sobre escribe al valor implícito asignado."
   ]
  },
  {
   "cell_type": "code",
   "execution_count": 21,
   "metadata": {},
   "outputs": [
    {
     "data": {
      "text/plain": [
       "8"
      ]
     },
     "execution_count": 21,
     "metadata": {},
     "output_type": "execute_result"
    }
   ],
   "source": [
    "implicitadd(4,4)"
   ]
  },
  {
   "cell_type": "markdown",
   "metadata": {},
   "source": [
    "<h2>Cualquier numero de argumentos</h2>"
   ]
  },
  {
   "cell_type": "markdown",
   "metadata": {},
   "source": [
    "Si no se conoce el número de argumentos con el que va a trabajar una función, se utiliza el símbolo de asterisco antes del argumento\n"
   ]
  },
  {
   "cell_type": "code",
   "execution_count": 22,
   "metadata": {},
   "outputs": [],
   "source": [
    "def add_n(*args): #define una funcion con una cantidad de argumentos desconocido\n",
    "    res = 0\n",
    "    reslist = [] #crea una lista vacia\n",
    "    for i in args:\n",
    "        reslist.append(i) #en bucle toma cada argumento y lo asigna a la lista\n",
    "    print (reslist)\n",
    "    return sum(reslist) #retorna la suma de todos los argumentos"
   ]
  },
  {
   "cell_type": "markdown",
   "metadata": {},
   "source": [
    "La función definida acepta cualquier número de argumentos, define una lista y añade todos los argumentos en una lista y retorna la suma de los argumentos."
   ]
  },
  {
   "cell_type": "code",
   "execution_count": 23,
   "metadata": {},
   "outputs": [
    {
     "name": "stdout",
     "output_type": "stream",
     "text": [
      "[1, 2, 3, 4, 5]\n"
     ]
    },
    {
     "data": {
      "text/plain": [
       "15"
      ]
     },
     "execution_count": 23,
     "metadata": {},
     "output_type": "execute_result"
    }
   ],
   "source": [
    "add_n(1,2,3,4,5)"
   ]
  },
  {
   "cell_type": "code",
   "execution_count": 24,
   "metadata": {},
   "outputs": [
    {
     "name": "stdout",
     "output_type": "stream",
     "text": [
      "[1, 2, 3]\n"
     ]
    },
    {
     "data": {
      "text/plain": [
       "6"
      ]
     },
     "execution_count": 24,
     "metadata": {},
     "output_type": "execute_result"
    }
   ],
   "source": [
    "add_n(1,2,3)"
   ]
  },
  {
   "cell_type": "markdown",
   "metadata": {},
   "source": [
    "<h2>Variables Globales y Locales</h2>"
   ]
  },
  {
   "cell_type": "markdown",
   "metadata": {},
   "source": [
    "Cualquier variable que se declara dentro de una función se denomina local, si se define fuera de la función se llama variable global."
   ]
  },
  {
   "cell_type": "code",
   "execution_count": 25,
   "metadata": {},
   "outputs": [],
   "source": [
    "eg1 = [1,2,3,4,5]"
   ]
  },
  {
   "cell_type": "markdown",
   "metadata": {},
   "source": [
    "En la función **egfunc1** estamos insertando elementos a una lista declarada dentro de una función, la variable eg2 está declarado dentro de la función por lo cual es local."
   ]
  },
  {
   "cell_type": "code",
   "execution_count": 26,
   "metadata": {},
   "outputs": [],
   "source": [
    "def egfunc1():\n",
    "    def thirdfunc(arg1):\n",
    "        eg2 = arg1[:]\n",
    "        eg2.append(6)\n",
    "        print (\"Esto ocurre dentro de la funcion :\", eg2)\n",
    "    print (\"Esto ocurre despues de que la funcion es llamada : \", eg1)\n",
    "    thirdfunc(eg1)\n",
    "    print (\"Esto ocurre fuera de la funcion :\", eg1)   \n",
    "    print (\"Accediendo a una variable declarada dentro de una funcion desde afuera :\" , eg2)"
   ]
  },
  {
   "cell_type": "code",
   "execution_count": 27,
   "metadata": {},
   "outputs": [
    {
     "name": "stdout",
     "output_type": "stream",
     "text": [
      "Esto ocurre despues de que la funcion es llamada :  [1, 2, 3, 4, 5]\n",
      "Esto ocurre dentro de la funcion : [1, 2, 3, 4, 5, 6]\n",
      "Esto ocurre fuera de la funcion : [1, 2, 3, 4, 5]\n"
     ]
    },
    {
     "ename": "NameError",
     "evalue": "name 'eg2' is not defined",
     "output_type": "error",
     "traceback": [
      "\u001b[1;31m---------------------------------------------------------------------------\u001b[0m",
      "\u001b[1;31mNameError\u001b[0m                                 Traceback (most recent call last)",
      "Cell \u001b[1;32mIn[27], line 1\u001b[0m\n\u001b[1;32m----> 1\u001b[0m egfunc1()\n",
      "Cell \u001b[1;32mIn[26], line 9\u001b[0m, in \u001b[0;36megfunc1\u001b[1;34m()\u001b[0m\n\u001b[0;32m      7\u001b[0m thirdfunc(eg1)\n\u001b[0;32m      8\u001b[0m \u001b[38;5;28mprint\u001b[39m (\u001b[38;5;124m\"\u001b[39m\u001b[38;5;124mEsto ocurre fuera de la funcion :\u001b[39m\u001b[38;5;124m\"\u001b[39m, eg1)   \n\u001b[1;32m----> 9\u001b[0m \u001b[38;5;28mprint\u001b[39m (\u001b[38;5;124m\"\u001b[39m\u001b[38;5;124mAccediendo a una variable declarada dentro de una funcion desde afuera :\u001b[39m\u001b[38;5;124m\"\u001b[39m , eg2)\n",
      "\u001b[1;31mNameError\u001b[0m: name 'eg2' is not defined"
     ]
    }
   ],
   "source": [
    "egfunc1()"
   ]
  },
  {
   "cell_type": "markdown",
   "metadata": {},
   "source": [
    "Si se define una variable  **global** como se muestra en el ejemplo entonces la variable puede ser llamada desde cualquier lugar"
   ]
  },
  {
   "cell_type": "code",
   "execution_count": 28,
   "metadata": {},
   "outputs": [],
   "source": [
    "eg3 = [1,2,3,4,5]"
   ]
  },
  {
   "cell_type": "code",
   "execution_count": 29,
   "metadata": {},
   "outputs": [],
   "source": [
    "def egfunc1():\n",
    "    def thirdfunc(arg1):\n",
    "        eg2 = arg1[:]\n",
    "        eg2.append(6)\n",
    "        print (\"Esto ocurre dentro de la funcion :\", eg2)\n",
    "    print (\"Esto ocurre despues de que la funcion es llamada : \", eg1)\n",
    "    thirdfunc(eg1)\n",
    "    print (\"Esto ocurre fuera de la funcion :\", eg1)   \n",
    "    print (\"Accediendo a una variable declarada dentro de una funcion desde afuera :\" , eg2)"
   ]
  },
  {
   "cell_type": "code",
   "execution_count": 30,
   "metadata": {},
   "outputs": [
    {
     "name": "stdout",
     "output_type": "stream",
     "text": [
      "Esto ocurre despues de que la funcion es llamada :  [1, 2, 3, 4, 5]\n",
      "Esto ocurre dentro de la funcion : [1, 2, 3, 4, 5, 6]\n",
      "Esto ocurre fuera de la funcion : [1, 2, 3, 4, 5]\n"
     ]
    },
    {
     "ename": "NameError",
     "evalue": "name 'eg2' is not defined",
     "output_type": "error",
     "traceback": [
      "\u001b[1;31m---------------------------------------------------------------------------\u001b[0m",
      "\u001b[1;31mNameError\u001b[0m                                 Traceback (most recent call last)",
      "Cell \u001b[1;32mIn[30], line 1\u001b[0m\n\u001b[1;32m----> 1\u001b[0m egfunc1()\n",
      "Cell \u001b[1;32mIn[29], line 9\u001b[0m, in \u001b[0;36megfunc1\u001b[1;34m()\u001b[0m\n\u001b[0;32m      7\u001b[0m thirdfunc(eg1)\n\u001b[0;32m      8\u001b[0m \u001b[38;5;28mprint\u001b[39m (\u001b[38;5;124m\"\u001b[39m\u001b[38;5;124mEsto ocurre fuera de la funcion :\u001b[39m\u001b[38;5;124m\"\u001b[39m, eg1)   \n\u001b[1;32m----> 9\u001b[0m \u001b[38;5;28mprint\u001b[39m (\u001b[38;5;124m\"\u001b[39m\u001b[38;5;124mAccediendo a una variable declarada dentro de una funcion desde afuera :\u001b[39m\u001b[38;5;124m\"\u001b[39m , eg2)\n",
      "\u001b[1;31mNameError\u001b[0m: name 'eg2' is not defined"
     ]
    }
   ],
   "source": [
    "egfunc1()"
   ]
  },
  {
   "cell_type": "markdown",
   "metadata": {},
   "source": [
    "<h2>Funcion Lambda</h2>"
   ]
  },
  {
   "cell_type": "markdown",
   "metadata": {},
   "source": [
    "Se trata de pequeñas funciones que no están definidas con ningún nombre y llevan una única expresión cuyo resultado se retorna. Las funciones lambda resultan muy útiles cuando se operan con listas estas funciones están definidas con la palabra **lambda** seguida de las variables, dos puntos y la expresión correspondiente."
   ]
  },
  {
   "cell_type": "code",
   "execution_count": 31,
   "metadata": {},
   "outputs": [],
   "source": [
    "z = lambda x: x * x"
   ]
  },
  {
   "cell_type": "code",
   "execution_count": 32,
   "metadata": {},
   "outputs": [
    {
     "data": {
      "text/plain": [
       "64"
      ]
     },
     "execution_count": 32,
     "metadata": {},
     "output_type": "execute_result"
    }
   ],
   "source": [
    "z(8)"
   ]
  },
  {
   "cell_type": "markdown",
   "metadata": {},
   "source": [
    "<h3>Funcion MAP</h3>"
   ]
  },
  {
   "cell_type": "markdown",
   "metadata": {},
   "source": [
    "**map( )** Esta función básicamente ejecuta la función que está definida para cada uno de los elementos de la lista de forma separada."
   ]
  },
  {
   "cell_type": "code",
   "execution_count": 33,
   "metadata": {},
   "outputs": [],
   "source": [
    "list1 = [1,2,3,4,5,6,7,8,9]"
   ]
  },
  {
   "cell_type": "code",
   "execution_count": 34,
   "metadata": {},
   "outputs": [
    {
     "name": "stdout",
     "output_type": "stream",
     "text": [
      "<map object at 0x000002490B2AF520>\n"
     ]
    }
   ],
   "source": [
    "eg = map(lambda x:x+2, list1)\n",
    "print (eg)"
   ]
  },
  {
   "cell_type": "markdown",
   "metadata": {},
   "source": [
    "Tambien se puede sumar dos listas"
   ]
  },
  {
   "cell_type": "code",
   "execution_count": 35,
   "metadata": {},
   "outputs": [],
   "source": [
    "list2 = [9,8,7,6,5,4,3,2,1]"
   ]
  },
  {
   "cell_type": "code",
   "execution_count": 36,
   "metadata": {},
   "outputs": [
    {
     "name": "stdout",
     "output_type": "stream",
     "text": [
      "<map object at 0x000002490B2AD690>\n"
     ]
    }
   ],
   "source": [
    "eg2 = map(lambda x,y:x+y, list1,list2)\n",
    "print (eg2)"
   ]
  },
  {
   "cell_type": "markdown",
   "metadata": {},
   "source": [
    "No solo la función lambda también otras funciones integradas pueden ser utilizadas"
   ]
  },
  {
   "cell_type": "code",
   "execution_count": 37,
   "metadata": {},
   "outputs": [
    {
     "name": "stdout",
     "output_type": "stream",
     "text": [
      "<map object at 0x000002490B2AEF20>\n"
     ]
    }
   ],
   "source": [
    "eg3 = map(str,eg2)\n",
    "print (eg3)"
   ]
  },
  {
   "cell_type": "markdown",
   "metadata": {},
   "source": [
    "<h3>Filter</h3>"
   ]
  },
  {
   "cell_type": "markdown",
   "metadata": {},
   "source": [
    "**filter( )** esta función es utilizada para filtrar los valores de una lista notesé que esta función **filter()** retorna el resultado en una nueva lista."
   ]
  },
  {
   "cell_type": "code",
   "execution_count": 38,
   "metadata": {},
   "outputs": [],
   "source": [
    "list1 = [1,2,3,4,5,6,7,8,9]"
   ]
  },
  {
   "cell_type": "markdown",
   "metadata": {},
   "source": [
    "Para obtener los elementos que son menores a 5."
   ]
  },
  {
   "cell_type": "code",
   "execution_count": 39,
   "metadata": {},
   "outputs": [
    {
     "data": {
      "text/plain": [
       "<filter at 0x2490b2adcf0>"
      ]
     },
     "execution_count": 39,
     "metadata": {},
     "output_type": "execute_result"
    }
   ],
   "source": [
    "filter(lambda x:x<5,list1)"
   ]
  },
  {
   "cell_type": "markdown",
   "metadata": {},
   "source": [
    "Observe que sucede cuando la funcion **map()** es usada."
   ]
  },
  {
   "cell_type": "code",
   "execution_count": 40,
   "metadata": {},
   "outputs": [
    {
     "data": {
      "text/plain": [
       "<map at 0x2490b2afd30>"
      ]
     },
     "execution_count": 40,
     "metadata": {},
     "output_type": "execute_result"
    }
   ],
   "source": [
    "map(lambda x:x<5, list1)"
   ]
  },
  {
   "cell_type": "markdown",
   "metadata": {},
   "source": [
    "Podemos concluir que todo lo que se devuelve true en **map( )**, ese elemento en particular es devuelto cuando se utiliza la función **filter( )**."
   ]
  },
  {
   "cell_type": "code",
   "execution_count": 41,
   "metadata": {},
   "outputs": [
    {
     "data": {
      "text/plain": [
       "<filter at 0x2490b2afc10>"
      ]
     },
     "execution_count": 41,
     "metadata": {},
     "output_type": "execute_result"
    }
   ],
   "source": [
    "filter(lambda x:x%4==0,list1)"
   ]
  },
  {
   "cell_type": "markdown",
   "metadata": {},
   "source": [
    "This is a customized version of orignal series of Repo https://github.com/rajathkumarmp"
   ]
  }
 ],
 "metadata": {
  "kernelspec": {
   "display_name": "Python 3 (ipykernel)",
   "language": "python",
   "name": "python3"
  },
  "language_info": {
   "codemirror_mode": {
    "name": "ipython",
    "version": 3
   },
   "file_extension": ".py",
   "mimetype": "text/x-python",
   "name": "python",
   "nbconvert_exporter": "python",
   "pygments_lexer": "ipython3",
   "version": "3.11.5"
  }
 },
 "nbformat": 4,
 "nbformat_minor": 1
}
